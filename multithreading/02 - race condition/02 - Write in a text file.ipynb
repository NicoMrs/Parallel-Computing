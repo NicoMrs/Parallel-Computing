{
 "cells": [
  {
   "cell_type": "markdown",
   "id": "2f002b71-55ed-4d71-99c5-e4ddf0f2de5c",
   "metadata": {},
   "source": [
    "## I. Race Condition - What happen if we don't protect our data structure ?\n",
    "\n",
    "In this example, many threads are writing in the same file. If they attempt to access the same file at the same exact time, it can lead to a race condition, and one thread or many threads may not write the information. \n",
    "\n",
    "The file must be proctected by a **mutex lock**. With this lock, only one thread can write in the file while the other are sleeping. In that manner, the writing in file operation become thread safe, but at the cost the acquire/release time of the lock.\n"
   ]
  },
  {
   "cell_type": "code",
   "execution_count": 3,
   "id": "244a73ed-6f08-408e-bd95-38cf0c093009",
   "metadata": {},
   "outputs": [],
   "source": [
    "import sys\n",
    "\n",
    "module_path = '..'\n",
    "if module_path not in sys.path:\n",
    "    sys.path.append(module_path)\n",
    "\n",
    "from utils import perf_decorator"
   ]
  },
  {
   "cell_type": "code",
   "execution_count": 4,
   "id": "b12953f6-1659-44e5-a084-4c09822dce2b",
   "metadata": {},
   "outputs": [],
   "source": [
    "from time import sleep\n",
    "from threading import Thread, Lock\n",
    "from numpy import random"
   ]
  },
  {
   "cell_type": "code",
   "execution_count": 5,
   "id": "fe1bc64f-c9dc-466f-8081-00ce9bf28f22",
   "metadata": {},
   "outputs": [],
   "source": [
    "def write_in_file(filename, lock=None):\n",
    "    \"\"\" Write in filename in append mode no lock\"\"\"\n",
    "    sleep(0.001)\n",
    "    for i in range(100):\n",
    "        if lock:\n",
    "            lock.acquire()\n",
    "            with open(filename, 'a') as f:\n",
    "                sleep(0.01)\n",
    "                f.write(f\"{random.random()}\\n\")\n",
    "            lock.release()\n",
    "        else:\n",
    "            with open(filename, 'a') as f:\n",
    "                sleep(0.01)\n",
    "                f.write(f\"{random.random()}\\n\")         "
   ]
  },
  {
   "cell_type": "code",
   "execution_count": 6,
   "id": "dbfe775e-f618-4612-a7f6-d54313899cb9",
   "metadata": {},
   "outputs": [],
   "source": [
    "def count_lines_in_file(filename):\n",
    "    \"\"\" Count line number i filename \"\"\"\n",
    "    counter = 0\n",
    "    with open(filename, 'r') as f:\n",
    "        for line in f:\n",
    "            counter +=1\n",
    "    return counter"
   ]
  },
  {
   "cell_type": "code",
   "execution_count": 7,
   "id": "7e32688c-ff22-4c5f-9bf4-23394a04cc7b",
   "metadata": {},
   "outputs": [],
   "source": [
    "@perf_decorator\n",
    "def main_not_protected():\n",
    "    \"\"\" Write with 20 threads in the same file  \"\"\"\n",
    "\n",
    "    fname = \"not_protected.txt\"\n",
    "    \n",
    "    # erase content of previous file\n",
    "    with open(fname, \"w\") as f:\n",
    "        pass\n",
    "    \n",
    "    workers = [Thread(target = write_in_file, args=(fname,)) for _ in range(20)]\n",
    "    \n",
    "    for worker in workers:\n",
    "        worker.start() # start all threads\n",
    "    \n",
    "    for worker in workers:\n",
    "        worker.join() # wait for all threads to finish\n",
    "\n",
    "    n_lines = count_lines_in_file(fname)\n",
    "    print(f\"There are {n_lines} lines in {fname}, there should be {20*100}.\")\n",
    "    print(f\"Missing Line: {20*100-n_lines} lines\")"
   ]
  },
  {
   "cell_type": "code",
   "execution_count": 8,
   "id": "7c289201-8fb7-43c2-a1d6-96ddf29b7a46",
   "metadata": {},
   "outputs": [
    {
     "name": "stdout",
     "output_type": "stream",
     "text": [
      "There are 1968 lines in not_protected.txt, there should be 2000.\n",
      "Missing Line: 32 lines\n",
      "main_not_protected execution time 1.34s\n"
     ]
    }
   ],
   "source": [
    "main_not_protected()"
   ]
  },
  {
   "cell_type": "code",
   "execution_count": 9,
   "id": "2fe5081d-c593-4aa0-8751-8a404afcc7a2",
   "metadata": {},
   "outputs": [],
   "source": [
    "@perf_decorator\n",
    "def main_protected():\n",
    "    \"\"\" Write with 20 threads in the same file  \"\"\"\n",
    "\n",
    "    fname = \"protected.txt\"\n",
    "    \n",
    "    # erase content of previous file\n",
    "    with open(fname, \"w\") as f:\n",
    "        pass\n",
    "\n",
    "    lock = Lock()\n",
    "    workers = [Thread(target = write_in_file, args=(fname,lock)) for _ in range(20)]\n",
    "    \n",
    "    for worker in workers:\n",
    "        worker.start() # start all threads\n",
    "    \n",
    "    for worker in workers:\n",
    "        worker.join() # wait for all threads to finish\n",
    "\n",
    "    n_lines = count_lines_in_file(fname)\n",
    "    print(f\"There are {n_lines} lines in {fname}, there should be {20*100}.\")\n",
    "    print(f\"Missing Line: {20*100-n_lines} lines\")"
   ]
  },
  {
   "cell_type": "code",
   "execution_count": 10,
   "id": "408c46a2-c3f1-415a-a3e6-a38e297e578d",
   "metadata": {},
   "outputs": [
    {
     "name": "stdout",
     "output_type": "stream",
     "text": [
      "There are 2000 lines in protected.txt, there should be 2000.\n",
      "Missing Line: 0 lines\n",
      "main_protected execution time 23.77s\n"
     ]
    }
   ],
   "source": [
    "main_protected()"
   ]
  },
  {
   "cell_type": "code",
   "execution_count": 11,
   "id": "880a7885-5cf8-4a05-8372-6cd5edc6ae61",
   "metadata": {},
   "outputs": [],
   "source": [
    "@perf_decorator\n",
    "def main_sequential():\n",
    "    \"\"\" Write with 20 threads in the same file  \"\"\"\n",
    "\n",
    "    fname = \"sequential.txt\"\n",
    "    \n",
    "    # erase content of previous file\n",
    "    with open(fname, \"w\") as f:\n",
    "        pass\n",
    "\n",
    "    for _ in range(20):\n",
    "        write_in_file(fname)\n",
    "\n",
    "    n_lines = count_lines_in_file(fname)\n",
    "    print(f\"There are {n_lines} lines in {fname}, there should be {20*100}.\")\n",
    "    print(f\"Missing Line: {20*100-n_lines} lines\")"
   ]
  },
  {
   "cell_type": "code",
   "execution_count": 12,
   "id": "48fe8255-ff54-4d35-8834-a66ac1f561ec",
   "metadata": {},
   "outputs": [
    {
     "name": "stdout",
     "output_type": "stream",
     "text": [
      "There are 2000 lines in sequential.txt, there should be 2000.\n",
      "Missing Line: 0 lines\n",
      "main_sequential execution time 24.25s\n"
     ]
    }
   ],
   "source": [
    "main_sequential()"
   ]
  }
 ],
 "metadata": {
  "kernelspec": {
   "display_name": "Python 3 (ipykernel)",
   "language": "python",
   "name": "python3"
  },
  "language_info": {
   "codemirror_mode": {
    "name": "ipython",
    "version": 3
   },
   "file_extension": ".py",
   "mimetype": "text/x-python",
   "name": "python",
   "nbconvert_exporter": "python",
   "pygments_lexer": "ipython3",
   "version": "3.12.7"
  }
 },
 "nbformat": 4,
 "nbformat_minor": 5
}
