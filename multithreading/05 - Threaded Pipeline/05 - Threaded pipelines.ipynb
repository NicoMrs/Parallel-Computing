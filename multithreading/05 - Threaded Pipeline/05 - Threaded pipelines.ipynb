{
 "cells": [
  {
   "cell_type": "markdown",
   "id": "e1cc602f-4076-4d2b-a83c-a0cfe2cd4373",
   "metadata": {},
   "source": [
    "# Create threaded pipelines for downloading images"
   ]
  },
  {
   "cell_type": "markdown",
   "id": "54777d7c-2afb-4271-a435-f936be0702f4",
   "metadata": {},
   "source": [
    "The goal of this notebook is to create a pipeline that:\n",
    "- download images\n",
    "- write image name, url name, image size and time of addition in book\n",
    "- remove image\n",
    "\n",
    "We will use a sequential process and compares against multithreaded options. We will make use of queue to coordinate threads."
   ]
  },
  {
   "cell_type": "code",
   "execution_count": 3,
   "id": "73fe32bd-7fdf-4ac0-8b58-7506948e1e3a",
   "metadata": {},
   "outputs": [],
   "source": [
    "from queue import Queue\n",
    "from threading import Thread\n",
    "import time\n",
    "import os\n",
    "import requests"
   ]
  },
  {
   "cell_type": "code",
   "execution_count": 4,
   "id": "764ec0c1-adff-4fac-a9ad-e33f1020cc13",
   "metadata": {},
   "outputs": [],
   "source": [
    "import sys\n",
    "\n",
    "module_name = '..'\n",
    "if module_name not in sys.path:\n",
    "    sys.path.append(module_name)\n",
    "\n",
    "import utils\n",
    "from utils import perf_decorator"
   ]
  },
  {
   "cell_type": "markdown",
   "id": "81a82b47-0722-4e5d-8729-c092a3d6b600",
   "metadata": {},
   "source": [
    "## I. Utils function"
   ]
  },
  {
   "cell_type": "code",
   "execution_count": 6,
   "id": "4b01c356-5c01-4ba2-9a12-8cf2b71085b0",
   "metadata": {},
   "outputs": [],
   "source": [
    "def initialize_book(name):\n",
    "    \"\"\" create book that save images \"\"\"\n",
    "\n",
    "    # use write mode so that previous book is replaced\n",
    "    with open(name, 'w') as f:\n",
    "        f.write(f\"BOOK created at {time.ctime()}\")\n",
    "        f.write('\\n')"
   ]
  },
  {
   "cell_type": "code",
   "execution_count": 7,
   "id": "2f121508-1d06-4c74-8e9b-334a15cce5d8",
   "metadata": {},
   "outputs": [],
   "source": [
    "def delay(time_to_sleep):\n",
    "    \"\"\" decorator that simulate a long I/O process \"\"\"\n",
    "    def decorator(func):\n",
    "        def inner(*args, **kwargs):\n",
    "            time.sleep(time_to_sleep) # simulte IO delay\n",
    "            return func(*args, **kwargs)\n",
    "        return inner\n",
    "    return decorator"
   ]
  },
  {
   "cell_type": "code",
   "execution_count": 8,
   "id": "eadf4166-cea3-4ffc-9a36-50b2a0dd5ce0",
   "metadata": {},
   "outputs": [],
   "source": [
    "@delay(0.125)\n",
    "def download_image(img_url):\n",
    "    \"\"\" download with img_url \"\"\"\n",
    "    img_bytes = requests.get(img_url).content\n",
    "    img_name = img_url.split('/')[3]\n",
    "    img_name = f'{img_name}.jpg'\n",
    "    \n",
    "    with open(img_name, 'wb') as img_file:\n",
    "        img_file.write(img_bytes)\n",
    "        print(f'{img_name} was downloaded...')\n",
    "\n",
    "    return img_url, img_name\n",
    "\n",
    "@delay(0.25)\n",
    "def add_in_book(img_url, img_name, book_name=\"BOOK.txt\"):\n",
    "    \"\"\" add image in book  \"\"\"\n",
    "\n",
    "    size = os.path.getsize(img_name)\n",
    "    \n",
    "    with open(book_name, 'a') as fp:\n",
    "        fp.write('\\n')\n",
    "        fp.write(f\"Added at {time.ctime()}\")\n",
    "        fp.write('\\n')\n",
    "        fp.write(f\"name:{img_name!r} - url:{img_url!r} - size:{size/1024**2:.2f} Mb \")\n",
    "        fp.write('\\n')\n",
    "\n",
    "    return img_name\n",
    "\n",
    "@delay(0.50)\n",
    "def remove_img(img_name):\n",
    "    \"\"\" write image size  \"\"\"\n",
    "\n",
    "    os.remove(img_name)\n",
    "    print(f\"{img_name} was removed\")\n",
    "    return img_name"
   ]
  },
  {
   "cell_type": "code",
   "execution_count": 9,
   "id": "63736447-d91d-4933-9313-e146d7de57c6",
   "metadata": {},
   "outputs": [],
   "source": [
    "img_urls = [\n",
    "    'https://images.unsplash.com/photo-1516117172878-fd2c41f4a759',\n",
    "    'https://images.unsplash.com/photo-1532009324734-20a7a5813719',\n",
    "    'https://images.unsplash.com/photo-1524429656589-6633a470097c',\n",
    "    'https://images.unsplash.com/photo-1530224264768-7ff8c1789d79',\n",
    "    'https://images.unsplash.com/photo-1564135624576-c5c88640f235',\n",
    "    'https://images.unsplash.com/photo-1541698444083-023c97d3f4b6',\n",
    "    'https://images.unsplash.com/photo-1522364723953-452d3431c267',\n",
    "    'https://images.unsplash.com/photo-1513938709626-033611b8cc03',\n",
    "    'https://images.unsplash.com/photo-1507143550189-fed454f93097',\n",
    "    'https://images.unsplash.com/photo-1493976040374-85c8e12f0c0e',\n",
    "    'https://images.unsplash.com/photo-1504198453319-5ce911bafcde',\n",
    "    'https://images.unsplash.com/photo-1530122037265-a5f1f91d3b99',\n",
    "    'https://images.unsplash.com/photo-1516972810927-80185027ca84',\n",
    "    'https://images.unsplash.com/photo-1550439062-609e1531270e',\n",
    "    'https://images.unsplash.com/photo-1549692520-acc6669e2f0c'\n",
    "]"
   ]
  },
  {
   "cell_type": "markdown",
   "id": "6394794f-8c30-4519-b5c0-d2452d4233c5",
   "metadata": {},
   "source": [
    "## II. Non threaded option"
   ]
  },
  {
   "cell_type": "code",
   "execution_count": 11,
   "id": "ce828862-e5ba-42be-a889-4e1edb7b73bb",
   "metadata": {},
   "outputs": [
    {
     "name": "stdout",
     "output_type": "stream",
     "text": [
      "photo-1516117172878-fd2c41f4a759.jpg was downloaded...\n",
      "photo-1516117172878-fd2c41f4a759.jpg was removed\n",
      "photo-1532009324734-20a7a5813719.jpg was downloaded...\n",
      "photo-1532009324734-20a7a5813719.jpg was removed\n",
      "photo-1524429656589-6633a470097c.jpg was downloaded...\n",
      "photo-1524429656589-6633a470097c.jpg was removed\n",
      "photo-1530224264768-7ff8c1789d79.jpg was downloaded...\n",
      "photo-1530224264768-7ff8c1789d79.jpg was removed\n",
      "photo-1564135624576-c5c88640f235.jpg was downloaded...\n",
      "photo-1564135624576-c5c88640f235.jpg was removed\n",
      "photo-1541698444083-023c97d3f4b6.jpg was downloaded...\n",
      "photo-1541698444083-023c97d3f4b6.jpg was removed\n",
      "photo-1522364723953-452d3431c267.jpg was downloaded...\n",
      "photo-1522364723953-452d3431c267.jpg was removed\n",
      "photo-1513938709626-033611b8cc03.jpg was downloaded...\n",
      "photo-1513938709626-033611b8cc03.jpg was removed\n",
      "photo-1507143550189-fed454f93097.jpg was downloaded...\n",
      "photo-1507143550189-fed454f93097.jpg was removed\n",
      "photo-1493976040374-85c8e12f0c0e.jpg was downloaded...\n",
      "photo-1493976040374-85c8e12f0c0e.jpg was removed\n",
      "photo-1504198453319-5ce911bafcde.jpg was downloaded...\n",
      "photo-1504198453319-5ce911bafcde.jpg was removed\n",
      "photo-1530122037265-a5f1f91d3b99.jpg was downloaded...\n",
      "photo-1530122037265-a5f1f91d3b99.jpg was removed\n",
      "photo-1516972810927-80185027ca84.jpg was downloaded...\n",
      "photo-1516972810927-80185027ca84.jpg was removed\n",
      "photo-1550439062-609e1531270e.jpg was downloaded...\n",
      "photo-1550439062-609e1531270e.jpg was removed\n",
      "photo-1549692520-acc6669e2f0c.jpg was downloaded...\n",
      "photo-1549692520-acc6669e2f0c.jpg was removed\n",
      "Done\n",
      "main execution time 62.45s\n"
     ]
    }
   ],
   "source": [
    "@perf_decorator\n",
    "def main():\n",
    "    book_name = \"BOOK.txt\"\n",
    "    initialize_book(book_name)\n",
    "    \n",
    "    for img_url in img_urls:\n",
    "        p = download_image(img_url)\n",
    "        p = add_in_book(*p, book_name = \"BOOK.txt\")\n",
    "        remove_img(p)\n",
    "    print(\"Done\")\n",
    "\n",
    "main()"
   ]
  },
  {
   "cell_type": "markdown",
   "id": "9382df9f-0848-4cef-bccb-e230d1cbf283",
   "metadata": {},
   "source": [
    "## III. Threaded option with queue"
   ]
  },
  {
   "cell_type": "code",
   "execution_count": 13,
   "id": "a3798be9-f008-4c0f-9700-17e408ee6d82",
   "metadata": {},
   "outputs": [],
   "source": [
    "class ClosableQueue(Queue):\n",
    "    \"\"\" Create a closable queue \"\"\"\n",
    "    \n",
    "    SENTINEL = object()\n",
    "\n",
    "    def __init__(self):\n",
    "        super().__init__()\n",
    "        self.count = 0\n",
    "        \n",
    "    def close(self):\n",
    "        self.put(self.SENTINEL)\n",
    "\n",
    "    def __iter__(self):\n",
    "        while True:\n",
    "            item = self.get() # block while waiting for the item to be getted\n",
    "            try:\n",
    "                # if the SENTINEL object is gotten it signal the loop to terminate\n",
    "                if item is self.SENTINEL:\n",
    "                    return \n",
    "                yield item\n",
    "            finally:\n",
    "                self.count += 1\n",
    "                # Mark item as done when gone through the loop. \n",
    "                # When calling .join() on a queue it terminates if the same number of elements went in and out\n",
    "                self.task_done()\n",
    "\n",
    "class StoppableWorker(Thread):\n",
    "    \"\"\" Create a stoppable worker \"\"\"\n",
    "    \n",
    "    def __init__(self, func, in_queue, out_queue):\n",
    "        super().__init__()\n",
    "        self.func = func\n",
    "        self.in_queue = in_queue\n",
    "        self.out_queue = out_queue\n",
    "    \n",
    "    def run(self):\n",
    "        for item in self.in_queue:\n",
    "            result = self.func(item)\n",
    "            self.out_queue.put(result)"
   ]
  },
  {
   "cell_type": "code",
   "execution_count": null,
   "id": "ff0e3a19-3748-40cc-ba6d-8a077fc11712",
   "metadata": {},
   "outputs": [
    {
     "name": "stdout",
     "output_type": "stream",
     "text": [
      "photo-1516117172878-fd2c41f4a759.jpg was downloaded...\n",
      "photo-1516117172878-fd2c41f4a759.jpg was removed\n",
      "photo-1532009324734-20a7a5813719.jpg was downloaded...\n",
      "photo-1532009324734-20a7a5813719.jpg was removed\n",
      "photo-1524429656589-6633a470097c.jpg was downloaded...\n",
      "photo-1524429656589-6633a470097c.jpg was removed\n"
     ]
    }
   ],
   "source": [
    "@perf_decorator\n",
    "def main_threaded():\n",
    "    book_name = \"BOOK_threaded.txt\"\n",
    "    initialize_book(book_name)\n",
    "\n",
    "    # necessary to unpack args because only one item (here a tuple) can be passed as args through threads\n",
    "    # a tuple is passed to unpack_add_in_book through thread and it is unpacked in add_in_book\n",
    "    unpack_add_in_book = lambda p : add_in_book(*p, book_name=book_name)\n",
    "    \n",
    "    download_queue = ClosableQueue()\n",
    "    add_book_queue = ClosableQueue()\n",
    "    remove_queue = ClosableQueue()\n",
    "    done_queue = ClosableQueue()\n",
    "    \n",
    "    threads = [\n",
    "        StoppableWorker(download_image, download_queue, add_book_queue),\n",
    "        StoppableWorker(unpack_add_in_book , add_book_queue, remove_queue),\n",
    "        StoppableWorker(remove_img, remove_queue, done_queue),\n",
    "    ]\n",
    "    \n",
    "    for thread in threads:\n",
    "        thread.start()\n",
    "    \n",
    "    for img_url in img_urls:\n",
    "        download_queue.put(img_url)\n",
    "        \n",
    "    # signal to close all queue once done and wait for them to finish\n",
    "    download_queue.close()\n",
    "    download_queue.join()\n",
    "    \n",
    "    add_book_queue.close()\n",
    "    add_book_queue.join()\n",
    "    \n",
    "    remove_queue.close()\n",
    "    remove_queue.join()\n",
    "    \n",
    "    for thread in threads:\n",
    "        thread.join()\n",
    "\n",
    "    print(\"donwload_queue\", download_queue.count)\n",
    "    print(\"add_book_queue\", add_book_queue.count)\n",
    "    print(\"remove_queue\", remove_queue.count)\n",
    "    print(\"element in done queue\", done_queue.qsize(), \" expected number of elements\", len(img_urls))\n",
    "\n",
    "main_threaded()"
   ]
  },
  {
   "cell_type": "markdown",
   "id": "0a2eeaf6-39ef-4bdf-8e30-4efc0b2c4280",
   "metadata": {},
   "source": [
    "## III. Even more multithreading"
   ]
  },
  {
   "cell_type": "code",
   "execution_count": null,
   "id": "0ceb6f05-a8f6-42f7-8633-2929822032e8",
   "metadata": {},
   "outputs": [],
   "source": [
    "def start_threads(count, *args):\n",
    "    \n",
    "    # start count threads\n",
    "    threads = [StoppableWorker(*args) for _ in range(count)]\n",
    "    \n",
    "    for thread in threads:\n",
    "        thread.start()\n",
    "    \n",
    "    return threads\n",
    "\n",
    "def stop_threads(closable_queue, threads):\n",
    "    \n",
    "    # close all queues\n",
    "    for _ in threads:\n",
    "        closable_queue.close()\n",
    "\n",
    "    # wait for the queue to finish\n",
    "    closable_queue.join()\n",
    "\n",
    "    # wait for thread to finish\n",
    "    for thread in threads:\n",
    "        thread.join()"
   ]
  },
  {
   "cell_type": "code",
   "execution_count": null,
   "id": "b1bd987d-b94f-4586-b300-07f828b1ad9c",
   "metadata": {},
   "outputs": [],
   "source": [
    "@perf_decorator\n",
    "def main_even_more_threads():\n",
    "    \n",
    "    book_name = \"BOOK_even_more_threads.txt\"\n",
    "    initialize_book(book_name)\n",
    "    \n",
    "    unpack_add_in_book = lambda p : add_in_book(*p, book_name=book_name)\n",
    "    \n",
    "    download_queue = ClosableQueue()\n",
    "    add_book_queue = ClosableQueue()\n",
    "    remove_queue = ClosableQueue()\n",
    "    done_queue = ClosableQueue()\n",
    "    \n",
    "    download_threads = start_threads(2, download_image, download_queue, add_book_queue)\n",
    "    add_book_threads = start_threads(4, unpack_add_in_book , add_book_queue, remove_queue)\n",
    "    remove_threads = start_threads(6, remove_img, remove_queue, done_queue)\n",
    "    \n",
    "    for img_url in img_urls:\n",
    "        download_queue.put(img_url)\n",
    "        \n",
    "    stop_threads(download_queue, download_threads)\n",
    "    stop_threads(add_book_queue, add_book_threads)\n",
    "    stop_threads(remove_queue, remove_threads)\n",
    "        \n",
    "    print(done_queue.qsize(), 'items finished')\n",
    "\n",
    "main_even_more_threads()"
   ]
  },
  {
   "cell_type": "code",
   "execution_count": null,
   "id": "637c27b1-17d4-46a2-95c4-16523185795a",
   "metadata": {},
   "outputs": [],
   "source": []
  }
 ],
 "metadata": {
  "kernelspec": {
   "display_name": "Python 3 (ipykernel)",
   "language": "python",
   "name": "python3"
  },
  "language_info": {
   "codemirror_mode": {
    "name": "ipython",
    "version": 3
   },
   "file_extension": ".py",
   "mimetype": "text/x-python",
   "name": "python",
   "nbconvert_exporter": "python",
   "pygments_lexer": "ipython3",
   "version": "3.12.7"
  }
 },
 "nbformat": 4,
 "nbformat_minor": 5
}
