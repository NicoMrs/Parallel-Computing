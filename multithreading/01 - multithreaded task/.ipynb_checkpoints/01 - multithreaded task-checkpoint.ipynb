{
 "cells": [
  {
   "cell_type": "markdown",
   "id": "05c6317f-9d58-4345-ba2f-a2eb4ddc6f03",
   "metadata": {},
   "source": [
    "## I. Store Data in a share list\n",
    "\n",
    "In this example we simulated a long I/O task by sleeping 1s. We generate a random number that we store un a shared list. We execute this task n time sequentially and using multithreading.\n",
    "\n",
    "We protect our shared list with a **mutex Lock**, which can be only acquire by one thread at a time so that we protect our data structure against race condition."
   ]
  },
  {
   "cell_type": "code",
   "execution_count": 2,
   "id": "ad974e85-462f-41ba-bea9-1ca1bb2807f6",
   "metadata": {},
   "outputs": [],
   "source": [
    "import sys\n",
    "\n",
    "# append '..' so that we can go up one directory to import utils\n",
    "module_path = '..'\n",
    "if module_path not in sys.path:\n",
    "    sys.path.append(module_path)\n",
    "\n",
    "from utils import perf_decorator"
   ]
  },
  {
   "cell_type": "code",
   "execution_count": 3,
   "id": "b12953f6-1659-44e5-a084-4c09822dce2b",
   "metadata": {},
   "outputs": [],
   "source": [
    "from time import sleep\n",
    "from threading import Thread, Lock\n",
    "from numpy import random"
   ]
  },
  {
   "cell_type": "code",
   "execution_count": 4,
   "id": "db29e00f-b7f6-4fd6-a8aa-f29cc05cb9a1",
   "metadata": {},
   "outputs": [],
   "source": [
    "def long_io_task(shared_list, shared_lock):\n",
    "    \"\"\" Simulate log I/O task \"\"\"\n",
    "    sleep(1)\n",
    "    with shared_lock:\n",
    "        shared_list.append(random.randint(0,9))\n",
    "    return shared_list"
   ]
  },
  {
   "cell_type": "code",
   "execution_count": 5,
   "id": "99c6396e-13ad-4fff-ba7f-d4eb6ebd9e30",
   "metadata": {},
   "outputs": [],
   "source": [
    "@perf_decorator\n",
    "def main_not_threaded(n):\n",
    "    \"\"\" Execute n not threaded I/O tasks \"\"\"\n",
    "    shared_list = []\n",
    "    shared_lock = Lock()\n",
    "\n",
    "    for _ in range(n):\n",
    "        long_io_task(shared_list, shared_lock)\n",
    "\n",
    "    print(shared_list)"
   ]
  },
  {
   "cell_type": "code",
   "execution_count": 6,
   "id": "99be3c4e-ae36-4d37-9070-29836d31ebc8",
   "metadata": {},
   "outputs": [],
   "source": [
    "@perf_decorator\n",
    "def main_threaded(n):\n",
    "    \"\"\" Execute n threaded I/O tasks \"\"\"\n",
    "    shared_list = []\n",
    "    shared_lock = Lock()\n",
    "\n",
    "    workers = [Thread(target = long_io_task, args=(shared_list, shared_lock))\n",
    "                      for _ in range(n)]\n",
    "    for worker in workers:\n",
    "        worker.start() # start all threads\n",
    "\n",
    "    for worker in workers:\n",
    "        worker.join() # wait for all threads to finish\n",
    "        \n",
    "    print(shared_list)"
   ]
  },
  {
   "cell_type": "code",
   "execution_count": 7,
   "id": "441a087c-eb40-47a5-a67c-df6adc2905a3",
   "metadata": {},
   "outputs": [
    {
     "name": "stdout",
     "output_type": "stream",
     "text": [
      "[7, 5, 4, 3, 1, 2, 4, 7, 3, 7]\n",
      "main_not_threaded execution time 10.01s\n"
     ]
    }
   ],
   "source": [
    "main_not_threaded(10)"
   ]
  },
  {
   "cell_type": "code",
   "execution_count": 8,
   "id": "f6a69acb-595b-49d2-96e8-ae7cfdebc15b",
   "metadata": {},
   "outputs": [
    {
     "name": "stdout",
     "output_type": "stream",
     "text": [
      "[1, 4, 7, 8, 8, 2, 7, 3, 3, 6]\n",
      "main_threaded execution time 1.01s\n"
     ]
    }
   ],
   "source": [
    "main_threaded(10)"
   ]
  },
  {
   "cell_type": "markdown",
   "id": "9746b68d-4629-4145-ba51-b5f45d12a2f4",
   "metadata": {},
   "source": [
    "In that case the threaded option is way more efficient, as expected."
   ]
  }
 ],
 "metadata": {
  "kernelspec": {
   "display_name": "Python 3 (ipykernel)",
   "language": "python",
   "name": "python3"
  },
  "language_info": {
   "codemirror_mode": {
    "name": "ipython",
    "version": 3
   },
   "file_extension": ".py",
   "mimetype": "text/x-python",
   "name": "python",
   "nbconvert_exporter": "python",
   "pygments_lexer": "ipython3",
   "version": "3.12.7"
  }
 },
 "nbformat": 4,
 "nbformat_minor": 5
}
