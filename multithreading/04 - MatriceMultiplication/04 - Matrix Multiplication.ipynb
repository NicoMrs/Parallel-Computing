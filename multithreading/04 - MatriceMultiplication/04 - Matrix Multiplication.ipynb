{
 "cells": [
  {
   "cell_type": "markdown",
   "id": "b17ec912-935e-489a-8c1b-d207a3d06ce3",
   "metadata": {},
   "source": [
    "# Matrix Multiplication"
   ]
  },
  {
   "cell_type": "markdown",
   "id": "d194f163-7ad8-4d12-9655-9f9306ee83f8",
   "metadata": {},
   "source": [
    "We will use multithreading/multiprocessing to compute matrix products. We will use a thread/process to compute the next row of the resulting matrix. \n",
    "\n",
    "\n",
    "First, we will use multithreading. We add a sleep time in the task function to simulate an I/O process and show the interest of multithreading. Then we will use multiprocessing and show the interest for a CPU bound task."
   ]
  },
  {
   "cell_type": "code",
   "execution_count": 3,
   "id": "acd5ea65-a1dd-4e67-9495-0b67565f3ca0",
   "metadata": {},
   "outputs": [],
   "source": [
    "import time\n",
    "import random\n",
    "import threading\n",
    "import numpy as np\n",
    "from time import perf_counter"
   ]
  },
  {
   "cell_type": "code",
   "execution_count": 4,
   "id": "e12868d4-2fcd-46d7-a85d-0feffae84ab3",
   "metadata": {},
   "outputs": [],
   "source": [
    "def timeit(func):\n",
    "    \"\"\" decorator that times a function \"\"\"\n",
    "    def inner(*args, **kwargs):\n",
    "        start = perf_counter()\n",
    "        res = func(*args, **kwargs)\n",
    "        end = perf_counter()\n",
    "        print(f\"time taken {end-start:.2f}s\")\n",
    "        return res\n",
    "    return inner"
   ]
  },
  {
   "cell_type": "code",
   "execution_count": 5,
   "id": "04f00e78-7615-4b1e-ab52-6fab02a29a3c",
   "metadata": {},
   "outputs": [],
   "source": [
    "def sleep_for(n):\n",
    "    \"\"\" decorator factory that takes a sleeping time as input \"\"\"\n",
    "    def decorator(func):\n",
    "        \"\"\" decorator \"\"\"\n",
    "        def inner(*args, **kwargs):\n",
    "            time.sleep(n)\n",
    "            return func(*args, **kwargs)\n",
    "        return inner\n",
    "    return decorator"
   ]
  },
  {
   "cell_type": "code",
   "execution_count": 6,
   "id": "fe9dcd38-f7b7-4a3c-8bc2-b506c4dfcf89",
   "metadata": {},
   "outputs": [],
   "source": [
    "def gen_random_mat(n):\n",
    "    \"\"\" Generate random matrice of size n\"\"\"\n",
    "    mat = [ [random.randint(1,5) for _ in range(n)] for _ in range(n)]\n",
    "    return mat\n",
    "\n",
    "def render_mat(mat):\n",
    "    \"\"\" render matrice \"\"\"\n",
    "    for row in mat:\n",
    "        print(row)\n",
    "\n",
    "def verify_with_numpy(matA, matB):\n",
    "    \"\"\" Verify result with numpy calculations \"\"\"\n",
    "    return np.matmul(np.array(matA), np.array(matB))\n",
    "\n",
    "def row_work(args):\n",
    "    \"\"\" return product of row time a matrice \"\"\"\n",
    "    res = []\n",
    "    row, mat_B = args\n",
    "    for j in range(len(mat_B)):\n",
    "        a = 0\n",
    "        for i in range(len(row)):\n",
    "            a += row[i]*mat_B[i][j]\n",
    "        res.append(a)\n",
    "    return res   "
   ]
  },
  {
   "cell_type": "code",
   "execution_count": 7,
   "id": "ef30642a-8f40-4476-9002-34845869613d",
   "metadata": {},
   "outputs": [
    {
     "name": "stdout",
     "output_type": "stream",
     "text": [
      "mat_A\n",
      "[4, 2, 5, 5]\n",
      "[3, 4, 4, 3]\n",
      "[3, 4, 1, 5]\n",
      "[2, 1, 3, 2]\n",
      "\n",
      "mat_B\n",
      "[1, 3, 5, 3]\n",
      "[5, 1, 5, 2]\n",
      "[3, 2, 3, 3]\n",
      "[1, 1, 3, 1]\n"
     ]
    }
   ],
   "source": [
    "mat_A = gen_random_mat(4)\n",
    "mat_B = gen_random_mat(4)\n",
    "\n",
    "print(\"mat_A\")\n",
    "render_mat(mat_A)\n",
    "\n",
    "print()\n",
    "\n",
    "print(\"mat_B\")\n",
    "render_mat(mat_B)"
   ]
  },
  {
   "cell_type": "code",
   "execution_count": 8,
   "id": "a69f5ac1-430b-410a-823d-743af51b712c",
   "metadata": {},
   "outputs": [
    {
     "name": "stdout",
     "output_type": "stream",
     "text": [
      "[34, 29, 60, 36]\n",
      "[38, 24, 56, 32]\n",
      "[31, 20, 53, 25]\n",
      "[18, 15, 30, 19]\n"
     ]
    }
   ],
   "source": [
    "mat = []\n",
    "for row in mat_A:\n",
    "    res = row_work(args=(row, mat_B))\n",
    "    mat.append(res)\n",
    "render_mat(mat)"
   ]
  },
  {
   "cell_type": "code",
   "execution_count": 9,
   "id": "4de786bb-a408-4879-9031-36d39ae5b2a0",
   "metadata": {},
   "outputs": [
    {
     "data": {
      "text/plain": [
       "array([[34, 29, 60, 36],\n",
       "       [38, 24, 56, 32],\n",
       "       [31, 20, 53, 25],\n",
       "       [18, 15, 30, 19]])"
      ]
     },
     "execution_count": 9,
     "metadata": {},
     "output_type": "execute_result"
    }
   ],
   "source": [
    "verify_with_numpy(mat_A, mat_B)"
   ]
  },
  {
   "cell_type": "markdown",
   "id": "3f318d10-fdb4-4072-9042-09e33a631f7d",
   "metadata": {},
   "source": [
    "## I. I/O bound task: Multithreaded vs Non threaded"
   ]
  },
  {
   "cell_type": "markdown",
   "id": "7073a0a8-e79a-47c1-b62b-aa544505947c",
   "metadata": {},
   "source": [
    "### a. Non Threaded"
   ]
  },
  {
   "cell_type": "code",
   "execution_count": 12,
   "id": "8380a89b-b037-4343-9898-f0f9af6ee274",
   "metadata": {},
   "outputs": [],
   "source": [
    "IO_row_work = sleep_for(1)(row_work)"
   ]
  },
  {
   "cell_type": "code",
   "execution_count": 13,
   "id": "34ebe4d1-5ebc-45c1-be5c-b57a4fae8cb3",
   "metadata": {},
   "outputs": [],
   "source": [
    "# Non Threaded\n",
    "@timeit\n",
    "def main():\n",
    "    mat = []\n",
    "    for row in mat_A:\n",
    "        res = IO_row_work((row, mat_B))\n",
    "        mat.append(res)\n",
    "    render_mat(mat)"
   ]
  },
  {
   "cell_type": "code",
   "execution_count": 14,
   "id": "6a330c5b-c2e0-49e9-bbad-b4c198e00921",
   "metadata": {},
   "outputs": [
    {
     "name": "stdout",
     "output_type": "stream",
     "text": [
      "[34, 29, 60, 36]\n",
      "[38, 24, 56, 32]\n",
      "[31, 20, 53, 25]\n",
      "[18, 15, 30, 19]\n",
      "time taken 4.00s\n"
     ]
    }
   ],
   "source": [
    "main()"
   ]
  },
  {
   "cell_type": "markdown",
   "id": "d0d83ab1-753f-4530-9892-41fec9c263e0",
   "metadata": {},
   "source": [
    "### b. Multi Threaded with the concurrent module"
   ]
  },
  {
   "cell_type": "code",
   "execution_count": 16,
   "id": "63e6649d-e1a3-4906-be16-e8e09c765b60",
   "metadata": {},
   "outputs": [],
   "source": [
    "import concurrent"
   ]
  },
  {
   "cell_type": "code",
   "execution_count": 17,
   "id": "467d5116-bc74-4509-9740-b40e21e2d5d1",
   "metadata": {},
   "outputs": [
    {
     "name": "stdout",
     "output_type": "stream",
     "text": [
      "[34, 29, 60, 36]\n",
      "[38, 24, 56, 32]\n",
      "[31, 20, 53, 25]\n",
      "[18, 15, 30, 19]\n",
      "time taken 1.00s\n"
     ]
    }
   ],
   "source": [
    "@timeit\n",
    "def main():\n",
    "    # the pool made the decision on how to affect worker\n",
    "    with concurrent.futures.ThreadPoolExecutor() as executor:\n",
    "    \n",
    "        args = ((row,mat_B) for row in mat_A) # generator so it is lazy\n",
    "        results = executor.map(IO_row_work, args)\n",
    "    \n",
    "        # iterator than we can loop over that will yield result in execution order\n",
    "        mat = [res for res in results]\n",
    "        \n",
    "        render_mat(mat)\n",
    "main()"
   ]
  },
  {
   "cell_type": "markdown",
   "id": "ecead6bf-21fb-4798-95d3-251163a3f6ae",
   "metadata": {},
   "source": [
    "The multithreaded is 4 times faster than the non threaded solution because they are 4 row operation perform in separate threads."
   ]
  },
  {
   "cell_type": "markdown",
   "id": "a863c1fc-dd84-4d79-ac7a-d7fa3ad28bd6",
   "metadata": {},
   "source": [
    "## II. CPU bound task : Sequential vs Multithreaded vs Multiprocessed"
   ]
  },
  {
   "cell_type": "code",
   "execution_count": 20,
   "id": "065a00d7-8530-4192-90da-8fb24c031799",
   "metadata": {},
   "outputs": [],
   "source": [
    "n = 400\n",
    "mat_A = gen_random_mat(n)\n",
    "mat_B = gen_random_mat(n)"
   ]
  },
  {
   "cell_type": "markdown",
   "id": "4c145274-4105-4988-ba86-b160acf41384",
   "metadata": {},
   "source": [
    "#### a. sequential"
   ]
  },
  {
   "cell_type": "code",
   "execution_count": 22,
   "id": "8174167d-25af-4fe2-97f2-936f9a771274",
   "metadata": {},
   "outputs": [
    {
     "name": "stdout",
     "output_type": "stream",
     "text": [
      "product 1 done\n",
      "product 2 done\n",
      "product 3 done\n",
      "product 4 done\n",
      "product 5 done\n",
      "product 6 done\n",
      "product 7 done\n",
      "product 8 done\n",
      "product 9 done\n",
      "product 10 done\n",
      "time taken 80.33s\n"
     ]
    }
   ],
   "source": [
    "@timeit\n",
    "def main():\n",
    "\n",
    "    for t in range(10):\n",
    "        mat = []\n",
    "        for row in mat_A:\n",
    "            res = row_work((row, mat_B))\n",
    "            mat.append(res)\n",
    "            \n",
    "        print(f\"product {t+1} done\")\n",
    "\n",
    "main()"
   ]
  },
  {
   "cell_type": "markdown",
   "id": "b6db2b41-8885-4b58-bac7-9b669908d095",
   "metadata": {},
   "source": [
    "#### b. multithreaded"
   ]
  },
  {
   "cell_type": "code",
   "execution_count": 24,
   "id": "0c55d8a7-afd2-48a9-bc66-eac2c30b5abc",
   "metadata": {},
   "outputs": [
    {
     "name": "stdout",
     "output_type": "stream",
     "text": [
      "product 1 done\n",
      "product 2 done\n",
      "product 3 done\n",
      "product 4 done\n",
      "product 5 done\n",
      "product 6 done\n",
      "product 7 done\n",
      "product 8 done\n",
      "product 9 done\n",
      "product 10 done\n",
      "time taken 75.57s\n"
     ]
    }
   ],
   "source": [
    "@timeit\n",
    "def main():\n",
    "\n",
    "    for t in range(10):\n",
    "        \n",
    "        # the pool made the decision on how to affect worker\n",
    "        with concurrent.futures.ThreadPoolExecutor() as executor:\n",
    "        \n",
    "            args = ((row,mat_B) for row in mat_A) # generator so it is lazy\n",
    "            results = executor.map(row_work, args)\n",
    "        \n",
    "            # iterator than we can loop over that will yield result in execution order\n",
    "            mat = [res for res in results]\n",
    "\n",
    "        print(f\"product {t+1} done\")\n",
    "\n",
    "main()"
   ]
  },
  {
   "cell_type": "markdown",
   "id": "c980ecb0-a951-4ddf-b002-c7d28ae9b6a4",
   "metadata": {},
   "source": [
    "#### c. multiprocessed\n",
    "We perform one full matrix opertaion in a process. Multiprocess can be run directly in Jupyter notebook. Function must be compiled first that's why we import code from the matrix_multiprocess module"
   ]
  },
  {
   "cell_type": "raw",
   "id": "6f81a62d-0cac-4f57-afe3-72c6a84b551d",
   "metadata": {},
   "source": [
    "# matrix_multiprocess\n",
    "\n",
    "def full_matrix_product(args):\n",
    "    mat_A, mat_B, i = args\n",
    "    mat = []\n",
    "    for row in mat_A:\n",
    "        res = row_work((row, mat_B))\n",
    "        mat.append(res)\n",
    "    print(f\"process {i} is done\")\n",
    "    return i\n",
    "\n",
    "\n",
    "@timeit\n",
    "def execute_in_multiprocess(mat_A, mat_B):\n",
    "    pool = ProcessPoolExecutor()\n",
    "    args = ((mat_A, mat_B, i) for i in range(10))\n",
    "    result = list(pool.map(full_matrix_product, args))\n",
    "    return result"
   ]
  },
  {
   "cell_type": "code",
   "execution_count": 26,
   "id": "cf43168e-d850-4045-8028-1bbc0cf7c8f7",
   "metadata": {},
   "outputs": [],
   "source": [
    "from matrix_multiprocess import execute_in_multiprocess"
   ]
  },
  {
   "cell_type": "code",
   "execution_count": 27,
   "id": "696c2c5f-7145-4ecd-bde9-5070109bbeb5",
   "metadata": {},
   "outputs": [
    {
     "name": "stdout",
     "output_type": "stream",
     "text": [
      "time taken 51.10s\n"
     ]
    },
    {
     "data": {
      "text/plain": [
       "[0, 1, 2, 3, 4, 5, 6, 7, 8, 9]"
      ]
     },
     "execution_count": 27,
     "metadata": {},
     "output_type": "execute_result"
    }
   ],
   "source": [
    "execute_in_multiprocess(mat_A, mat_B)"
   ]
  },
  {
   "cell_type": "code",
   "execution_count": null,
   "id": "c4c1196d-d027-4441-aeeb-bdee0cb9fe4f",
   "metadata": {},
   "outputs": [],
   "source": []
  },
  {
   "cell_type": "code",
   "execution_count": null,
   "id": "c329802f-9ea0-47bd-bde3-3b8c3866d2f2",
   "metadata": {},
   "outputs": [],
   "source": []
  },
  {
   "cell_type": "code",
   "execution_count": null,
   "id": "4a7571cf-0eba-455c-b1b6-47107fc5a959",
   "metadata": {},
   "outputs": [],
   "source": []
  },
  {
   "cell_type": "code",
   "execution_count": null,
   "id": "08a8ecce-af82-46a7-9038-6211ff5608c2",
   "metadata": {},
   "outputs": [],
   "source": []
  },
  {
   "cell_type": "code",
   "execution_count": null,
   "id": "044ac5c3-8a76-4495-9f2c-672c9af2756b",
   "metadata": {},
   "outputs": [],
   "source": []
  }
 ],
 "metadata": {
  "kernelspec": {
   "display_name": "Python 3 (ipykernel)",
   "language": "python",
   "name": "python3"
  },
  "language_info": {
   "codemirror_mode": {
    "name": "ipython",
    "version": 3
   },
   "file_extension": ".py",
   "mimetype": "text/x-python",
   "name": "python",
   "nbconvert_exporter": "python",
   "pygments_lexer": "ipython3",
   "version": "3.12.7"
  }
 },
 "nbformat": 4,
 "nbformat_minor": 5
}
