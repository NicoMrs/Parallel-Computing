{
 "cells": [
  {
   "cell_type": "markdown",
   "id": "f649dc6c-e4e9-4e23-ac0f-a128177cb35e",
   "metadata": {},
   "source": [
    "## I. Share data with ThreadPoolExecutor"
   ]
  },
  {
   "cell_type": "markdown",
   "id": "0db9d211-d9be-45fb-a255-5b9885646626",
   "metadata": {},
   "source": [
    "ThreadPoolExecutor come from the concurrent.futures module. It has a simpler interface that the threading module and basically do what the multithreading but in a better way. We can use:\n",
    "- executor.submit in a for loop. It creates an iterable where results are stored as they come\n",
    "- execut.map. It creates an iterable where results come in the starting order\n",
    "\n",
    "Also something very interesting with these convenient function is that error will only be raised when we go through the iterator which mean that we can manage the error flow properly."
   ]
  },
  {
   "cell_type": "code",
   "execution_count": 3,
   "id": "ad974e85-462f-41ba-bea9-1ca1bb2807f6",
   "metadata": {},
   "outputs": [],
   "source": [
    "import sys\n",
    "\n",
    "module_path = '..'\n",
    "if module_path not in sys.path:\n",
    "    sys.path.append(module_path)\n",
    "\n",
    "from utils import perf_decorator"
   ]
  },
  {
   "cell_type": "code",
   "execution_count": 4,
   "id": "b12953f6-1659-44e5-a084-4c09822dce2b",
   "metadata": {},
   "outputs": [],
   "source": [
    "import concurrent.futures\n",
    "from time import sleep\n",
    "from numpy import random"
   ]
  },
  {
   "cell_type": "code",
   "execution_count": 5,
   "id": "fe666c5f-214b-4721-9f03-847a5aba1d8b",
   "metadata": {},
   "outputs": [],
   "source": [
    "def do_something(seconds, raised_sec=None):\n",
    "    sleep(seconds)\n",
    "    if raised_sec and seconds == raised_sec:\n",
    "        raise ValueError(f\"Cannot accept sleeping for {raised_sec} s.\")\n",
    "    return f'Done {seconds} seconds ...'"
   ]
  },
  {
   "cell_type": "markdown",
   "id": "dcee2e76-9323-499a-ac92-39fa29a2adff",
   "metadata": {},
   "source": [
    "### a. using a loop: result came in the finished order"
   ]
  },
  {
   "cell_type": "code",
   "execution_count": 7,
   "id": "ce76ff58-e145-4aeb-9e6e-d53baefb0f85",
   "metadata": {},
   "outputs": [
    {
     "name": "stdout",
     "output_type": "stream",
     "text": [
      "Done 1 seconds ...\n",
      "Error has been properly managed: Cannot accept sleeping for 2 s.\n",
      "Done 3 seconds ...\n",
      "Done 5 seconds ...\n",
      "main execution time 5.00s\n"
     ]
    },
    {
     "data": {
      "text/plain": [
       "[<Future at 0x2b87b00fb90 state=finished returned str>,\n",
       " <Future at 0x2b87a195d00 state=finished returned str>,\n",
       " <Future at 0x2b879a2bb00 state=finished raised ValueError>,\n",
       " <Future at 0x2b87b025670 state=finished returned str>]"
      ]
     },
     "execution_count": 7,
     "metadata": {},
     "output_type": "execute_result"
    }
   ],
   "source": [
    "@perf_decorator\n",
    "def main():\n",
    "    \n",
    "    # the pool made the decision on how to affect worker\n",
    "    with concurrent.futures.ThreadPoolExecutor() as executor:\n",
    "        secs = [5, 3, 2, 1]\n",
    "\n",
    "        results = [executor.submit(do_something, sec, raised_sec=2) for sec in secs]\n",
    "    \n",
    "        # iterator than we can loop over that will yield result as completed\n",
    "        for f in concurrent.futures.as_completed(results):\n",
    "            try:\n",
    "                print(f.result())\n",
    "            except ValueError as err:\n",
    "                print(f\"Error has been properly managed: {err}\")\n",
    "\n",
    "    return results\n",
    "    \n",
    "main()"
   ]
  },
  {
   "cell_type": "markdown",
   "id": "9741a286-1494-47ed-803e-6e8aa764d569",
   "metadata": {},
   "source": [
    "Threads come in order from the fastest to slowest."
   ]
  },
  {
   "cell_type": "markdown",
   "id": "f2482fcd-b620-48f5-9d01-9d6f29682c68",
   "metadata": {},
   "source": [
    "### b. using a loop: result came in the finished order"
   ]
  },
  {
   "cell_type": "code",
   "execution_count": 10,
   "id": "9ca80818-2311-4fc1-b9d5-f009cc510a04",
   "metadata": {},
   "outputs": [
    {
     "name": "stdout",
     "output_type": "stream",
     "text": [
      "Done 5 seconds ...\n",
      "Done 3 seconds ...\n",
      "Done 2 seconds ...\n",
      "Done 1 seconds ...\n",
      "main execution time 5.01s\n"
     ]
    },
    {
     "data": {
      "text/plain": [
       "<generator object Executor.map.<locals>.result_iterator at 0x000002B87AFE7C40>"
      ]
     },
     "execution_count": 10,
     "metadata": {},
     "output_type": "execute_result"
    }
   ],
   "source": [
    "@perf_decorator\n",
    "def main():\n",
    "    \n",
    "    # the pool made the decision on how to affect worker\n",
    "    with concurrent.futures.ThreadPoolExecutor() as executor:\n",
    "        secs = [5, 3, 2, 1]\n",
    "\n",
    "        results = executor.map(do_something, secs)\n",
    "    \n",
    "        # iterator than we can loop over that will yield result in execution order\n",
    "        for res in results:\n",
    "            print(res)\n",
    "\n",
    "    return results\n",
    "    \n",
    "main()"
   ]
  },
  {
   "cell_type": "markdown",
   "id": "bf399529-4fca-4d3c-9451-e017a05c2a0a",
   "metadata": {},
   "source": [
    "Threads come in execution order."
   ]
  },
  {
   "cell_type": "code",
   "execution_count": null,
   "id": "65315350-43c2-4733-9e7f-f75fa73c54b5",
   "metadata": {},
   "outputs": [],
   "source": []
  },
  {
   "cell_type": "code",
   "execution_count": null,
   "id": "d74e7729-9b44-4c32-8ce3-c7b45bb92cee",
   "metadata": {},
   "outputs": [],
   "source": []
  }
 ],
 "metadata": {
  "kernelspec": {
   "display_name": "Python 3 (ipykernel)",
   "language": "python",
   "name": "python3"
  },
  "language_info": {
   "codemirror_mode": {
    "name": "ipython",
    "version": 3
   },
   "file_extension": ".py",
   "mimetype": "text/x-python",
   "name": "python",
   "nbconvert_exporter": "python",
   "pygments_lexer": "ipython3",
   "version": "3.12.7"
  }
 },
 "nbformat": 4,
 "nbformat_minor": 5
}
